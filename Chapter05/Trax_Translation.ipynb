{
  "cells": [
    {
      "cell_type": "markdown",
      "metadata": {
        "id": "1liQji85FAIp"
      },
      "source": [
        "#Machine Translation with Trax\n",
        "\n",
        "Note by Denis Rothman: The original notebook was split into cells.\n",
        "\n",
        "[Reference Code](https://colab.research.google.com/github/google/trax/blob/master/trax/intro.ipynb)\n"
      ]
    },
    {
      "cell_type": "code",
      "execution_count": null,
      "metadata": {},
      "outputs": [],
      "source": []
    },
    {
      "cell_type": "code",
      "execution_count": 7,
      "metadata": {
        "id": "h0pjcihTE9fR"
      },
      "outputs": [],
      "source": [
        "#@title Installing Trax\n",
        "import os\n",
        "import numpy as np\n",
        "\n",
        "!pip install -q -U trax\n",
        "import trax"
      ]
    },
    {
      "cell_type": "markdown",
      "metadata": {},
      "source": [
        "트랜스 포머 모델 생성"
      ]
    },
    {
      "cell_type": "code",
      "execution_count": 8,
      "metadata": {
        "id": "ivTjrL-BMD8i"
      },
      "outputs": [],
      "source": [
        "#@title Creating\n",
        "# Pre-trained model config in gs://trax-ml/models/translation/ende_wmt32k.gin\n",
        "model = trax.models.Transformer(\n",
        "    input_vocab_size=33300,\n",
        "    d_model=512, d_ff=2048,\n",
        "    n_heads=8, n_encoder_layers=6, n_decoder_layers=6,\n",
        "    max_len=2048, mode='predict')\n"
      ]
    },
    {
      "cell_type": "markdown",
      "metadata": {},
      "source": [
        "사전 훈련 가중치로 모델 초기화하기"
      ]
    },
    {
      "cell_type": "code",
      "execution_count": 9,
      "metadata": {
        "id": "oJgRqlrmMKbo"
      },
      "outputs": [],
      "source": [
        "#@title Initializing the model using pre-trained weights\n",
        "model.init_from_file('gs://trax-ml/models/translation/ende_wmt32k.pkl.gz',\n",
        "                     weights_only=True)"
      ]
    },
    {
      "cell_type": "markdown",
      "metadata": {},
      "source": [
        "문장 토큰화"
      ]
    },
    {
      "cell_type": "code",
      "execution_count": 10,
      "metadata": {
        "id": "HvwJ5w-6MQNw"
      },
      "outputs": [],
      "source": [
        "#@title Tokenizing a sentence\n",
        "sentence = 'I am only a machine but I have machine intelligence.'\n",
        "\n",
        "tokenized = list(trax.data.tokenize(iter([sentence]),  # Operates on streams.\n",
        "                                    vocab_dir='gs://trax-ml/vocabs/',\n",
        "                                    vocab_file='ende_32k.subword'))[0]\n"
      ]
    },
    {
      "cell_type": "markdown",
      "metadata": {},
      "source": [
        "- 트랜스포머 디코딩\n",
        "\n",
        "트랜스포머 문장을 영어로 인코딩하고, 독일어로 디코딩할 것.    \n",
        "모델과 그 가중치가 그 능력 집합을 구성"
      ]
    },
    {
      "cell_type": "code",
      "execution_count": 11,
      "metadata": {
        "id": "IVkBQOvmMW9A"
      },
      "outputs": [],
      "source": [
        "#@title Decoding from the Transformer\n",
        "tokenized = tokenized[None, :]  # Add batch dimension.\n",
        "tokenized_translation = trax.supervised.decoding.autoregressive_sample(\n",
        "    model, tokenized, temperature=0.0)  # Higher temperature: more diverse results.\n"
      ]
    },
    {
      "cell_type": "markdown",
      "metadata": {},
      "source": [
        "- 역 토큰화 및 번역 표시"
      ]
    },
    {
      "cell_type": "code",
      "execution_count": 12,
      "metadata": {
        "colab": {
          "base_uri": "https://localhost:8080/"
        },
        "id": "QV2xr8_7Mc4B",
        "outputId": "c78c12ea-84a1-4fd5-fb2e-770fadc19e8b"
      },
      "outputs": [
        {
          "name": "stdout",
          "output_type": "stream",
          "text": [
            "The sentence: I am only a machine but I have machine intelligence.\n",
            "The translation: Ich bin nur eine Maschine, aber ich habe Maschinenübersicht.\n"
          ]
        }
      ],
      "source": [
        "#@title De-tokenizing and Displaying the Translation\n",
        "tokenized_translation = tokenized_translation[0][:-1]  # Remove batch and EOS.\n",
        "translation = trax.data.detokenize(tokenized_translation,\n",
        "                                   vocab_dir='gs://trax-ml/vocabs/',\n",
        "                                   vocab_file='ende_32k.subword')\n",
        "print(\"The sentence:\",sentence)\n",
        "print(\"The translation:\",translation)"
      ]
    }
  ],
  "metadata": {
    "accelerator": "GPU",
    "colab": {
      "collapsed_sections": [],
      "name": "Trax_Translation.ipynb",
      "provenance": []
    },
    "kernelspec": {
      "display_name": "Python 3",
      "name": "python3"
    }
  },
  "nbformat": 4,
  "nbformat_minor": 0
}
